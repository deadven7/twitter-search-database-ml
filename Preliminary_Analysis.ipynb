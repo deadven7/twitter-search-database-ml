{
 "cells": [
  {
   "cell_type": "code",
   "execution_count": 1,
   "id": "c0aec948",
   "metadata": {},
   "outputs": [],
   "source": [
    "import pandas as pd\n",
    "import matplotlib.pyplot as plt\n",
    "import warnings\n",
    "warnings.filterwarnings(\"ignore\")"
   ]
  },
  {
   "cell_type": "code",
   "execution_count": 2,
   "id": "29c4986b",
   "metadata": {},
   "outputs": [],
   "source": [
    "df_users = pd.read_csv(\"../data/users.csv\")\n",
    "df_tweets = pd.read_csv(\"../data/tweets.csv\")"
   ]
  },
  {
   "cell_type": "code",
   "execution_count": 3,
   "id": "e79a1749",
   "metadata": {},
   "outputs": [
    {
     "name": "stdout",
     "output_type": "stream",
     "text": [
      "(234293, 13)\n",
      "(120392, 17)\n"
     ]
    }
   ],
   "source": [
    "print(df_users.shape)\n",
    "print(df_tweets.shape)"
   ]
  },
  {
   "cell_type": "code",
   "execution_count": 4,
   "id": "eb484f79",
   "metadata": {},
   "outputs": [
    {
     "data": {
      "text/html": [
       "<div>\n",
       "<style scoped>\n",
       "    .dataframe tbody tr th:only-of-type {\n",
       "        vertical-align: middle;\n",
       "    }\n",
       "\n",
       "    .dataframe tbody tr th {\n",
       "        vertical-align: top;\n",
       "    }\n",
       "\n",
       "    .dataframe thead th {\n",
       "        text-align: right;\n",
       "    }\n",
       "</style>\n",
       "<table border=\"1\" class=\"dataframe\">\n",
       "  <thead>\n",
       "    <tr style=\"text-align: right;\">\n",
       "      <th></th>\n",
       "      <th>user_id</th>\n",
       "      <th>name</th>\n",
       "      <th>screen_name</th>\n",
       "      <th>date</th>\n",
       "      <th>twitter_join_date</th>\n",
       "      <th>location</th>\n",
       "      <th>description</th>\n",
       "      <th>verified</th>\n",
       "      <th>followers_count</th>\n",
       "      <th>friends_count</th>\n",
       "      <th>listed_count</th>\n",
       "      <th>favourites_count</th>\n",
       "      <th>language</th>\n",
       "    </tr>\n",
       "  </thead>\n",
       "  <tbody>\n",
       "    <tr>\n",
       "      <th>0</th>\n",
       "      <td>1242817830946508801</td>\n",
       "      <td>juwelz v</td>\n",
       "      <td>juwelz_v</td>\n",
       "      <td>2020-04-12 18:27:25+00:00</td>\n",
       "      <td>2020-03-25 14:17:28+00:00</td>\n",
       "      <td>Lower East Side, Manhattan</td>\n",
       "      <td>Event Lyfe LLC .. Brand Ambassador: #visionary...</td>\n",
       "      <td>False</td>\n",
       "      <td>43.0</td>\n",
       "      <td>118.0</td>\n",
       "      <td>0.0</td>\n",
       "      <td>722.0</td>\n",
       "      <td>NaN</td>\n",
       "    </tr>\n",
       "    <tr>\n",
       "      <th>1</th>\n",
       "      <td>16144221</td>\n",
       "      <td>NUFF</td>\n",
       "      <td>nuffsaidny</td>\n",
       "      <td>2020-04-12 16:48:01+00:00</td>\n",
       "      <td>2008-09-05 14:28:41+00:00</td>\n",
       "      <td>NaN</td>\n",
       "      <td>instagram: @nuffsaidny 🇹🇹</td>\n",
       "      <td>False</td>\n",
       "      <td>17112.0</td>\n",
       "      <td>1515.0</td>\n",
       "      <td>874.0</td>\n",
       "      <td>15790.0</td>\n",
       "      <td>NaN</td>\n",
       "    </tr>\n",
       "    <tr>\n",
       "      <th>2</th>\n",
       "      <td>1225145123920588805</td>\n",
       "      <td>efe09</td>\n",
       "      <td>efe0927183508</td>\n",
       "      <td>2020-04-12 18:27:25+00:00</td>\n",
       "      <td>2020-02-05 19:52:38+00:00</td>\n",
       "      <td>NaN</td>\n",
       "      <td>Allah'ın en değerli eseri insandır.\\nCanı yana...</td>\n",
       "      <td>False</td>\n",
       "      <td>653.0</td>\n",
       "      <td>983.0</td>\n",
       "      <td>0.0</td>\n",
       "      <td>1255.0</td>\n",
       "      <td>NaN</td>\n",
       "    </tr>\n",
       "    <tr>\n",
       "      <th>3</th>\n",
       "      <td>1087735689091928064</td>\n",
       "      <td>Karanfil Lale</td>\n",
       "      <td>lale_karanfil</td>\n",
       "      <td>2020-04-12 18:02:41+00:00</td>\n",
       "      <td>2019-01-22 15:36:12+00:00</td>\n",
       "      <td>NaN</td>\n",
       "      <td>NaN</td>\n",
       "      <td>False</td>\n",
       "      <td>897.0</td>\n",
       "      <td>1120.0</td>\n",
       "      <td>1.0</td>\n",
       "      <td>2776.0</td>\n",
       "      <td>NaN</td>\n",
       "    </tr>\n",
       "    <tr>\n",
       "      <th>4</th>\n",
       "      <td>101007632</td>\n",
       "      <td>Ravin Gupta</td>\n",
       "      <td>IamRaavin</td>\n",
       "      <td>2020-04-12 18:27:26+00:00</td>\n",
       "      <td>2010-01-01 16:24:24+00:00</td>\n",
       "      <td>india</td>\n",
       "      <td>Tweet is personal opinion and Retweet is not e...</td>\n",
       "      <td>False</td>\n",
       "      <td>499.0</td>\n",
       "      <td>537.0</td>\n",
       "      <td>2.0</td>\n",
       "      <td>4342.0</td>\n",
       "      <td>NaN</td>\n",
       "    </tr>\n",
       "  </tbody>\n",
       "</table>\n",
       "</div>"
      ],
      "text/plain": [
       "               user_id           name    screen_name  \\\n",
       "0  1242817830946508801       juwelz v       juwelz_v   \n",
       "1             16144221           NUFF     nuffsaidny   \n",
       "2  1225145123920588805          efe09  efe0927183508   \n",
       "3  1087735689091928064  Karanfil Lale  lale_karanfil   \n",
       "4            101007632    Ravin Gupta      IamRaavin   \n",
       "\n",
       "                        date          twitter_join_date  \\\n",
       "0  2020-04-12 18:27:25+00:00  2020-03-25 14:17:28+00:00   \n",
       "1  2020-04-12 16:48:01+00:00  2008-09-05 14:28:41+00:00   \n",
       "2  2020-04-12 18:27:25+00:00  2020-02-05 19:52:38+00:00   \n",
       "3  2020-04-12 18:02:41+00:00  2019-01-22 15:36:12+00:00   \n",
       "4  2020-04-12 18:27:26+00:00  2010-01-01 16:24:24+00:00   \n",
       "\n",
       "                     location  \\\n",
       "0  Lower East Side, Manhattan   \n",
       "1                         NaN   \n",
       "2                         NaN   \n",
       "3                         NaN   \n",
       "4                       india   \n",
       "\n",
       "                                         description verified  \\\n",
       "0  Event Lyfe LLC .. Brand Ambassador: #visionary...    False   \n",
       "1                          instagram: @nuffsaidny 🇹🇹    False   \n",
       "2  Allah'ın en değerli eseri insandır.\\nCanı yana...    False   \n",
       "3                                                NaN    False   \n",
       "4  Tweet is personal opinion and Retweet is not e...    False   \n",
       "\n",
       "   followers_count  friends_count  listed_count  favourites_count  language  \n",
       "0             43.0          118.0           0.0             722.0       NaN  \n",
       "1          17112.0         1515.0         874.0           15790.0       NaN  \n",
       "2            653.0          983.0           0.0            1255.0       NaN  \n",
       "3            897.0         1120.0           1.0            2776.0       NaN  \n",
       "4            499.0          537.0           2.0            4342.0       NaN  "
      ]
     },
     "execution_count": 4,
     "metadata": {},
     "output_type": "execute_result"
    }
   ],
   "source": [
    "df_users.head()"
   ]
  },
  {
   "cell_type": "code",
   "execution_count": 5,
   "id": "8cca8412",
   "metadata": {},
   "outputs": [
    {
     "data": {
      "text/html": [
       "<div>\n",
       "<style scoped>\n",
       "    .dataframe tbody tr th:only-of-type {\n",
       "        vertical-align: middle;\n",
       "    }\n",
       "\n",
       "    .dataframe tbody tr th {\n",
       "        vertical-align: top;\n",
       "    }\n",
       "\n",
       "    .dataframe thead th {\n",
       "        text-align: right;\n",
       "    }\n",
       "</style>\n",
       "<table border=\"1\" class=\"dataframe\">\n",
       "  <thead>\n",
       "    <tr style=\"text-align: right;\">\n",
       "      <th></th>\n",
       "      <th>tweet_id</th>\n",
       "      <th>user</th>\n",
       "      <th>name</th>\n",
       "      <th>verified</th>\n",
       "      <th>date</th>\n",
       "      <th>source</th>\n",
       "      <th>original_tweet_id</th>\n",
       "      <th>original_tweet_user_id</th>\n",
       "      <th>text</th>\n",
       "      <th>quote_count</th>\n",
       "      <th>reply_count</th>\n",
       "      <th>retweet_count</th>\n",
       "      <th>favorite_count</th>\n",
       "      <th>favorited</th>\n",
       "      <th>urls</th>\n",
       "      <th>hashtags</th>\n",
       "      <th>mentions</th>\n",
       "    </tr>\n",
       "  </thead>\n",
       "  <tbody>\n",
       "    <tr>\n",
       "      <th>0</th>\n",
       "      <td>1249403767180668930</td>\n",
       "      <td>1242817830946508801</td>\n",
       "      <td>juwelz v</td>\n",
       "      <td>False</td>\n",
       "      <td>2020-04-12 18:27:25 UTC+0000</td>\n",
       "      <td>&lt;a href=\"http://twitter.com/download/iphone\" r...</td>\n",
       "      <td>1249315454797168641</td>\n",
       "      <td>46769281</td>\n",
       "      <td>wishing death on people is weirdo behavior.</td>\n",
       "      <td>0</td>\n",
       "      <td>0</td>\n",
       "      <td>0</td>\n",
       "      <td>0</td>\n",
       "      <td>False</td>\n",
       "      <td>[]</td>\n",
       "      <td>[]</td>\n",
       "      <td>['nuffsaidny']</td>\n",
       "    </tr>\n",
       "    <tr>\n",
       "      <th>1</th>\n",
       "      <td>1249403768023678982</td>\n",
       "      <td>1225145123920588805</td>\n",
       "      <td>efe09</td>\n",
       "      <td>False</td>\n",
       "      <td>2020-04-12 18:27:25 UTC+0000</td>\n",
       "      <td>&lt;a href=\"https://mobile.twitter.com\" rel=\"nofo...</td>\n",
       "      <td>1249397541596286979</td>\n",
       "      <td>1087735689091928064</td>\n",
       "      <td>In Turkey, there are 300 thousand prisoners an...</td>\n",
       "      <td>0</td>\n",
       "      <td>0</td>\n",
       "      <td>0</td>\n",
       "      <td>0</td>\n",
       "      <td>False</td>\n",
       "      <td>[]</td>\n",
       "      <td>[]</td>\n",
       "      <td>['lale_karanfil']</td>\n",
       "    </tr>\n",
       "    <tr>\n",
       "      <th>2</th>\n",
       "      <td>1249403769193779202</td>\n",
       "      <td>101007632</td>\n",
       "      <td>Ravin Gupta</td>\n",
       "      <td>False</td>\n",
       "      <td>2020-04-12 18:27:26 UTC+0000</td>\n",
       "      <td>&lt;a href=\"http://twitter.com/download/android\" ...</td>\n",
       "      <td>1249319407177744385</td>\n",
       "      <td>1897514666</td>\n",
       "      <td>Thank You Sir !!\\nReally thankful for encourag...</td>\n",
       "      <td>0</td>\n",
       "      <td>0</td>\n",
       "      <td>0</td>\n",
       "      <td>0</td>\n",
       "      <td>False</td>\n",
       "      <td>[]</td>\n",
       "      <td>[]</td>\n",
       "      <td>['umesh_agr', 'BSNL_OR']</td>\n",
       "    </tr>\n",
       "    <tr>\n",
       "      <th>3</th>\n",
       "      <td>1249403769567227906</td>\n",
       "      <td>1230170166614482944</td>\n",
       "      <td>Carpe diem</td>\n",
       "      <td>False</td>\n",
       "      <td>2020-04-12 18:27:26 UTC+0000</td>\n",
       "      <td>&lt;a href=\"http://twitter.com/download/android\" ...</td>\n",
       "      <td>1249403114614075400</td>\n",
       "      <td>1193535233242664960</td>\n",
       "      <td>Turkey is so stubborn to change their mind, th...</td>\n",
       "      <td>0</td>\n",
       "      <td>0</td>\n",
       "      <td>0</td>\n",
       "      <td>0</td>\n",
       "      <td>False</td>\n",
       "      <td>[]</td>\n",
       "      <td>[]</td>\n",
       "      <td>['meysimek']</td>\n",
       "    </tr>\n",
       "    <tr>\n",
       "      <th>4</th>\n",
       "      <td>1249403770435493888</td>\n",
       "      <td>4707764075</td>\n",
       "      <td>UpsidedownTurtle 🧢</td>\n",
       "      <td>False</td>\n",
       "      <td>2020-04-12 18:27:26 UTC+0000</td>\n",
       "      <td>&lt;a href=\"https://mobile.twitter.com\" rel=\"nofo...</td>\n",
       "      <td>1249316363681910784</td>\n",
       "      <td>14135350</td>\n",
       "      <td>This image.\\nThis quote.\\n\\n“One of the reason...</td>\n",
       "      <td>0</td>\n",
       "      <td>0</td>\n",
       "      <td>0</td>\n",
       "      <td>0</td>\n",
       "      <td>False</td>\n",
       "      <td>[]</td>\n",
       "      <td>[]</td>\n",
       "      <td>['biannagolodryga']</td>\n",
       "    </tr>\n",
       "  </tbody>\n",
       "</table>\n",
       "</div>"
      ],
      "text/plain": [
       "              tweet_id                 user                name  verified  \\\n",
       "0  1249403767180668930  1242817830946508801            juwelz v     False   \n",
       "1  1249403768023678982  1225145123920588805               efe09     False   \n",
       "2  1249403769193779202            101007632         Ravin Gupta     False   \n",
       "3  1249403769567227906  1230170166614482944          Carpe diem     False   \n",
       "4  1249403770435493888           4707764075  UpsidedownTurtle 🧢     False   \n",
       "\n",
       "                           date  \\\n",
       "0  2020-04-12 18:27:25 UTC+0000   \n",
       "1  2020-04-12 18:27:25 UTC+0000   \n",
       "2  2020-04-12 18:27:26 UTC+0000   \n",
       "3  2020-04-12 18:27:26 UTC+0000   \n",
       "4  2020-04-12 18:27:26 UTC+0000   \n",
       "\n",
       "                                              source    original_tweet_id  \\\n",
       "0  <a href=\"http://twitter.com/download/iphone\" r...  1249315454797168641   \n",
       "1  <a href=\"https://mobile.twitter.com\" rel=\"nofo...  1249397541596286979   \n",
       "2  <a href=\"http://twitter.com/download/android\" ...  1249319407177744385   \n",
       "3  <a href=\"http://twitter.com/download/android\" ...  1249403114614075400   \n",
       "4  <a href=\"https://mobile.twitter.com\" rel=\"nofo...  1249316363681910784   \n",
       "\n",
       "   original_tweet_user_id                                               text  \\\n",
       "0                46769281        wishing death on people is weirdo behavior.   \n",
       "1     1087735689091928064  In Turkey, there are 300 thousand prisoners an...   \n",
       "2              1897514666  Thank You Sir !!\\nReally thankful for encourag...   \n",
       "3     1193535233242664960  Turkey is so stubborn to change their mind, th...   \n",
       "4                14135350  This image.\\nThis quote.\\n\\n“One of the reason...   \n",
       "\n",
       "   quote_count  reply_count  retweet_count  favorite_count  favorited urls  \\\n",
       "0            0            0              0               0      False   []   \n",
       "1            0            0              0               0      False   []   \n",
       "2            0            0              0               0      False   []   \n",
       "3            0            0              0               0      False   []   \n",
       "4            0            0              0               0      False   []   \n",
       "\n",
       "  hashtags                  mentions  \n",
       "0       []            ['nuffsaidny']  \n",
       "1       []         ['lale_karanfil']  \n",
       "2       []  ['umesh_agr', 'BSNL_OR']  \n",
       "3       []              ['meysimek']  \n",
       "4       []       ['biannagolodryga']  "
      ]
     },
     "execution_count": 5,
     "metadata": {},
     "output_type": "execute_result"
    }
   ],
   "source": [
    "df_tweets.head()"
   ]
  },
  {
   "cell_type": "code",
   "execution_count": 6,
   "id": "54256d92",
   "metadata": {},
   "outputs": [
    {
     "name": "stdout",
     "output_type": "stream",
     "text": [
      "Total number of tweets: 120392\n",
      "Number of unique users: 95622\n"
     ]
    }
   ],
   "source": [
    "# Print the total number of tweets collected\n",
    "print('Total number of tweets:', len(df_tweets))\n",
    "\n",
    "# Print the number of unique users posting tweets\n",
    "print('Number of unique users:', df_tweets['user'].nunique())"
   ]
  },
  {
   "cell_type": "code",
   "execution_count": 7,
   "id": "48280e35",
   "metadata": {},
   "outputs": [
    {
     "data": {
      "image/png": "[encoded data removed]",
      "text/plain": [
       "<Figure size 800x600 with 1 Axes>"
      ]
     },
     "metadata": {},
     "output_type": "display_data"
    }
   ],
   "source": [
    "# Identify the top hashtags\n",
    "top_hashtags = df_tweets.explode('hashtags')['hashtags'].value_counts().head(10)\n",
    "\n",
    "# Plot the bar chart\n",
    "fig, ax = plt.subplots(figsize=(8, 6))\n",
    "ax.bar(top_hashtags.index, top_hashtags.values, color='blue')\n",
    "ax.set_title('Top 10 Hashtags', fontsize=16)\n",
    "ax.set_xlabel('Hashtags', fontsize=14)\n",
    "ax.set_ylabel('Number of Hashtags', fontsize=14)\n",
    "ax.tick_params(axis='x', labelrotation=45)\n",
    "plt.show()"
   ]
  },
  {
   "cell_type": "code",
   "execution_count": 8,
   "id": "c5395570",
   "metadata": {},
   "outputs": [
    {
     "name": "stdout",
     "output_type": "stream",
     "text": [
      "Most frequent URLs:\n",
      " []                             84649\n",
      "['https://t.co/YPcJXU1uqw']     1474\n",
      "['https://t.co/fGIsLKzTkm']      988\n",
      "['https://t.co/pZ7OSbu0V1']      178\n",
      "['https://t.co/WKkHMq5OtK']      150\n",
      "['https://t.co/VLkciV1L8z']      143\n",
      "['https://t.co/h8S1NnGQUC']      142\n",
      "['https://t.co/uuUP7cI73J']      134\n",
      "['https://t.co/fx17qyhqrX']      131\n",
      "['https://t.co/n3c9AGDM5m']      110\n",
      "Name: urls, dtype: int64\n"
     ]
    }
   ],
   "source": [
    "# Identify the most frequent URLs\n",
    "most_frequent_urls = df_tweets.explode('urls')['urls'].value_counts().head(10)\n",
    "print('Most frequent URLs:\\n', most_frequent_urls)"
   ]
  },
  {
   "cell_type": "code",
   "execution_count": 9,
   "id": "dcd2504f",
   "metadata": {},
   "outputs": [
    {
     "name": "stdout",
     "output_type": "stream",
     "text": [
      "Most prolific users:\n",
      " 1251917580618661888    295\n",
      "1144669339599200256    271\n",
      "1054988224232349696    151\n",
      "771223464               99\n",
      "1245997042385772546     85\n",
      "1557743948              77\n",
      "1252818873578975232     75\n",
      "1235265381901750274     67\n",
      "855682025973583872      63\n",
      "1038062358              61\n",
      "Name: user, dtype: int64\n"
     ]
    }
   ],
   "source": [
    "# Identify the most prolific users\n",
    "most_prolific_users = df_tweets['user'].value_counts().head(10)\n",
    "print('Most prolific users:\\n', most_prolific_users)"
   ]
  },
  {
   "cell_type": "code",
   "execution_count": 10,
   "id": "6bb55348",
   "metadata": {},
   "outputs": [
    {
     "data": {
      "text/plain": [
       "Index(['user_id', 'name', 'screen_name', 'date', 'twitter_join_date',\n",
       "       'location', 'description', 'verified', 'followers_count',\n",
       "       'friends_count', 'listed_count', 'favourites_count', 'language'],\n",
       "      dtype='object')"
      ]
     },
     "execution_count": 10,
     "metadata": {},
     "output_type": "execute_result"
    }
   ],
   "source": [
    "df_users.columns"
   ]
  },
  {
   "cell_type": "code",
   "execution_count": 11,
   "id": "6abb58ab",
   "metadata": {},
   "outputs": [],
   "source": [
    "# Sort the dataframe by date\n",
    "df_users_sorted = df_users.sort_values(by='date', ascending=False)"
   ]
  },
  {
   "cell_type": "code",
   "execution_count": 12,
   "id": "5bfcc94c",
   "metadata": {},
   "outputs": [],
   "source": [
    "most_retweeted_tweets = df_tweets.sort_values('retweet_count', ascending=False).head(10)"
   ]
  },
  {
   "cell_type": "code",
   "execution_count": 13,
   "id": "db4bf7c6",
   "metadata": {},
   "outputs": [
    {
     "data": {
      "text/plain": [
       "0              wishing death on people is weirdo behavior.\n",
       "80257    Coronavirus: UP CM Yogi Adityanath bans public...\n",
       "80269    Police rounded up people in India and put them...\n",
       "80268                Como olvidar a tu mami @Irma_Sandoval\n",
       "80267    Congress President Mrs Sonia Gandhi’s letter t...\n",
       "80266    eu dou uns espirros e já fico *meu deus será q...\n",
       "80265    25April..\\nوفاقی کابینہ کے لٹیرے وزیروں بشمول ...\n",
       "80264    @TeAmoChavez2 @BELEN267248505 @Goicoechea12G @...\n",
       "80263    Kematian Jenderal Iran Qasem Soleimani (hingga...\n",
       "80262    And where is the evidence that Covid 19 is eas...\n",
       "Name: text, dtype: object"
      ]
     },
     "execution_count": 13,
     "metadata": {},
     "output_type": "execute_result"
    }
   ],
   "source": [
    "most_retweeted_tweets['text']"
   ]
  }
 ],
 "metadata": {
  "kernelspec": {
   "display_name": "Python 3 (ipykernel)",
   "language": "python",
   "name": "python3"
  },
  "language_info": {
   "codemirror_mode": {
    "name": "ipython",
    "version": 3
   },
   "file_extension": ".py",
   "mimetype": "text/x-python",
   "name": "python",
   "nbconvert_exporter": "python",
   "pygments_lexer": "ipython3",
   "version": "3.9.12"
  }
 },
 "nbformat": 4,
 "nbformat_minor": 5
}
